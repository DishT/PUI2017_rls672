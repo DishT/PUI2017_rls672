{
 "cells": [
  {
   "cell_type": "markdown",
   "metadata": {},
   "source": [
    "Kernal: PYU2016_Python2"
   ]
  },
  {
   "cell_type": "code",
   "execution_count": 1,
   "metadata": {},
   "outputs": [
    {
     "name": "stdout",
     "output_type": "stream",
     "text": [
      "Populating the interactive namespace from numpy and matplotlib\n"
     ]
    }
   ],
   "source": [
    "import matplotlib\n",
    "import pandas as pd\n",
    "%pylab inline"
   ]
  },
  {
   "cell_type": "markdown",
   "metadata": {},
   "source": [
    "### Reading in and munging 1995 tree census"
   ]
  },
  {
   "cell_type": "code",
   "execution_count": 2,
   "metadata": {},
   "outputs": [
    {
     "data": {
      "text/html": [
       "<div>\n",
       "<table border=\"1\" class=\"dataframe\">\n",
       "  <thead>\n",
       "    <tr style=\"text-align: right;\">\n",
       "      <th></th>\n",
       "      <th>RecordId</th>\n",
       "      <th>Address</th>\n",
       "      <th>House_Number</th>\n",
       "      <th>Street</th>\n",
       "      <th>Postcode_Original</th>\n",
       "      <th>Community Board_Original</th>\n",
       "      <th>Site</th>\n",
       "      <th>Species</th>\n",
       "      <th>Diameter</th>\n",
       "      <th>Condition</th>\n",
       "      <th>...</th>\n",
       "      <th>Spc_Latin</th>\n",
       "      <th>Council District</th>\n",
       "      <th>Location</th>\n",
       "      <th>BIN</th>\n",
       "      <th>BBL</th>\n",
       "      <th>Zip Codes</th>\n",
       "      <th>Community Districts</th>\n",
       "      <th>Borough Boundaries</th>\n",
       "      <th>City Council Districts</th>\n",
       "      <th>Police Precincts</th>\n",
       "    </tr>\n",
       "  </thead>\n",
       "  <tbody>\n",
       "    <tr>\n",
       "      <th>0</th>\n",
       "      <td>1</td>\n",
       "      <td>245 E 17 ST</td>\n",
       "      <td>245.0</td>\n",
       "      <td>E 17 ST</td>\n",
       "      <td>10003</td>\n",
       "      <td>106</td>\n",
       "      <td>Front</td>\n",
       "      <td>PLAC</td>\n",
       "      <td>8</td>\n",
       "      <td>Unknown</td>\n",
       "      <td>...</td>\n",
       "      <td>PLATANUS ACERIFOLIA</td>\n",
       "      <td>2.0</td>\n",
       "      <td>(40.734551, -73.984235)</td>\n",
       "      <td>1019566.0</td>\n",
       "      <td>1.008980e+09</td>\n",
       "      <td>11724.0</td>\n",
       "      <td>71.0</td>\n",
       "      <td>4.0</td>\n",
       "      <td>50.0</td>\n",
       "      <td>7.0</td>\n",
       "    </tr>\n",
       "    <tr>\n",
       "      <th>1</th>\n",
       "      <td>2</td>\n",
       "      <td>80 N MOORE ST</td>\n",
       "      <td>80.0</td>\n",
       "      <td>N MOORE ST</td>\n",
       "      <td>10013</td>\n",
       "      <td>101</td>\n",
       "      <td>Side</td>\n",
       "      <td>ACPL</td>\n",
       "      <td>7</td>\n",
       "      <td>Good</td>\n",
       "      <td>...</td>\n",
       "      <td>ACER PLATANOIDES</td>\n",
       "      <td>1.0</td>\n",
       "      <td>(40.720159, -74.010532)</td>\n",
       "      <td>1083157.0</td>\n",
       "      <td>1.001420e+09</td>\n",
       "      <td>12076.0</td>\n",
       "      <td>56.0</td>\n",
       "      <td>4.0</td>\n",
       "      <td>32.0</td>\n",
       "      <td>1.0</td>\n",
       "    </tr>\n",
       "    <tr>\n",
       "      <th>2</th>\n",
       "      <td>3</td>\n",
       "      <td>80 N MOORE ST</td>\n",
       "      <td>80.0</td>\n",
       "      <td>N MOORE ST</td>\n",
       "      <td>10013</td>\n",
       "      <td>101</td>\n",
       "      <td>Side</td>\n",
       "      <td>ACPL</td>\n",
       "      <td>6</td>\n",
       "      <td>Good</td>\n",
       "      <td>...</td>\n",
       "      <td>ACER PLATANOIDES</td>\n",
       "      <td>1.0</td>\n",
       "      <td>(40.720159, -74.010532)</td>\n",
       "      <td>1083157.0</td>\n",
       "      <td>1.001420e+09</td>\n",
       "      <td>12076.0</td>\n",
       "      <td>56.0</td>\n",
       "      <td>4.0</td>\n",
       "      <td>32.0</td>\n",
       "      <td>1.0</td>\n",
       "    </tr>\n",
       "    <tr>\n",
       "      <th>3</th>\n",
       "      <td>4</td>\n",
       "      <td>80 N MOORE ST</td>\n",
       "      <td>80.0</td>\n",
       "      <td>N MOORE ST</td>\n",
       "      <td>10013</td>\n",
       "      <td>101</td>\n",
       "      <td>Side</td>\n",
       "      <td>ACPL</td>\n",
       "      <td>7</td>\n",
       "      <td>Excellent</td>\n",
       "      <td>...</td>\n",
       "      <td>ACER PLATANOIDES</td>\n",
       "      <td>1.0</td>\n",
       "      <td>(40.720159, -74.010532)</td>\n",
       "      <td>1083157.0</td>\n",
       "      <td>1.001420e+09</td>\n",
       "      <td>12076.0</td>\n",
       "      <td>56.0</td>\n",
       "      <td>4.0</td>\n",
       "      <td>32.0</td>\n",
       "      <td>1.0</td>\n",
       "    </tr>\n",
       "    <tr>\n",
       "      <th>4</th>\n",
       "      <td>5</td>\n",
       "      <td>80 N MOORE ST</td>\n",
       "      <td>80.0</td>\n",
       "      <td>N MOORE ST</td>\n",
       "      <td>10013</td>\n",
       "      <td>101</td>\n",
       "      <td>Side</td>\n",
       "      <td>ACPL</td>\n",
       "      <td>6</td>\n",
       "      <td>Good</td>\n",
       "      <td>...</td>\n",
       "      <td>ACER PLATANOIDES</td>\n",
       "      <td>1.0</td>\n",
       "      <td>(40.720159, -74.010532)</td>\n",
       "      <td>1083157.0</td>\n",
       "      <td>1.001420e+09</td>\n",
       "      <td>12076.0</td>\n",
       "      <td>56.0</td>\n",
       "      <td>4.0</td>\n",
       "      <td>32.0</td>\n",
       "      <td>1.0</td>\n",
       "    </tr>\n",
       "  </tbody>\n",
       "</table>\n",
       "<p>5 rows × 35 columns</p>\n",
       "</div>"
      ],
      "text/plain": [
       "   RecordId        Address  House_Number      Street  Postcode_Original  \\\n",
       "0         1    245 E 17 ST         245.0     E 17 ST              10003   \n",
       "1         2  80 N MOORE ST          80.0  N MOORE ST              10013   \n",
       "2         3  80 N MOORE ST          80.0  N MOORE ST              10013   \n",
       "3         4  80 N MOORE ST          80.0  N MOORE ST              10013   \n",
       "4         5  80 N MOORE ST          80.0  N MOORE ST              10013   \n",
       "\n",
       "   Community Board_Original   Site Species  Diameter  Condition  \\\n",
       "0                       106  Front    PLAC         8    Unknown   \n",
       "1                       101   Side    ACPL         7       Good   \n",
       "2                       101   Side    ACPL         6       Good   \n",
       "3                       101   Side    ACPL         7  Excellent   \n",
       "4                       101   Side    ACPL         6       Good   \n",
       "\n",
       "         ...                   Spc_Latin Council District  \\\n",
       "0        ...         PLATANUS ACERIFOLIA              2.0   \n",
       "1        ...            ACER PLATANOIDES              1.0   \n",
       "2        ...            ACER PLATANOIDES              1.0   \n",
       "3        ...            ACER PLATANOIDES              1.0   \n",
       "4        ...            ACER PLATANOIDES              1.0   \n",
       "\n",
       "                  Location        BIN           BBL  Zip Codes  \\\n",
       "0  (40.734551, -73.984235)  1019566.0  1.008980e+09    11724.0   \n",
       "1  (40.720159, -74.010532)  1083157.0  1.001420e+09    12076.0   \n",
       "2  (40.720159, -74.010532)  1083157.0  1.001420e+09    12076.0   \n",
       "3  (40.720159, -74.010532)  1083157.0  1.001420e+09    12076.0   \n",
       "4  (40.720159, -74.010532)  1083157.0  1.001420e+09    12076.0   \n",
       "\n",
       "   Community Districts  Borough Boundaries  City Council Districts  \\\n",
       "0                 71.0                 4.0                    50.0   \n",
       "1                 56.0                 4.0                    32.0   \n",
       "2                 56.0                 4.0                    32.0   \n",
       "3                 56.0                 4.0                    32.0   \n",
       "4                 56.0                 4.0                    32.0   \n",
       "\n",
       "   Police Precincts  \n",
       "0               7.0  \n",
       "1               1.0  \n",
       "2               1.0  \n",
       "3               1.0  \n",
       "4               1.0  \n",
       "\n",
       "[5 rows x 35 columns]"
      ]
     },
     "execution_count": 2,
     "metadata": {},
     "output_type": "execute_result"
    }
   ],
   "source": [
    "trees1995 = pd.read_csv(\"https://data.cityofnewyork.us/api/views/y75w-icrw/rows.csv\")\n",
    "trees1995.head()"
   ]
  },
  {
   "cell_type": "code",
   "execution_count": 3,
   "metadata": {},
   "outputs": [
    {
     "data": {
      "text/plain": [
       "(516989, 35)"
      ]
     },
     "execution_count": 3,
     "metadata": {},
     "output_type": "execute_result"
    }
   ],
   "source": [
    "trees1995.shape"
   ]
  },
  {
   "cell_type": "code",
   "execution_count": 4,
   "metadata": {},
   "outputs": [
    {
     "data": {
      "text/plain": [
       "Index([u'RecordId', u'Address', u'House_Number', u'Street',\n",
       "       u'Postcode_Original', u'Community Board_Original', u'Site', u'Species',\n",
       "       u'Diameter', u'Condition', u'Wires', u'Sidewalk_Condition',\n",
       "       u'Support_Structure', u'Borough', u'X', u'Y', u'Longitude', u'Latitude',\n",
       "       u'CB_New', u'Zip_New', u'CensusTract_2010', u'CensusBlock_2010',\n",
       "       u'NTA_2010', u'SegmentID', u'Spc_Common', u'Spc_Latin',\n",
       "       u'Council District', u'Location', u'BIN', u'BBL', u'Zip Codes',\n",
       "       u'Community Districts', u'Borough Boundaries',\n",
       "       u'City Council Districts', u'Police Precincts'],\n",
       "      dtype='object')"
      ]
     },
     "execution_count": 4,
     "metadata": {},
     "output_type": "execute_result"
    }
   ],
   "source": [
    "trees1995.columns"
   ]
  },
  {
   "cell_type": "code",
   "execution_count": 5,
   "metadata": {},
   "outputs": [],
   "source": [
    "trees1995.drop(['Address', u'House_Number', u'Street',\n",
    "               'Postcode_Original', u'Community Board_Original', u'Site', u'Species',\n",
    "               'Diameter', u'Condition', u'Wires', u'Sidewalk_Condition',\n",
    "               'Support_Structure', u'X', u'Y', u'Longitude', u'Latitude',\n",
    "               'CB_New', u'Zip_New', u'CensusTract_2010', u'CensusBlock_2010',\n",
    "               'NTA_2010', u'SegmentID', u'Spc_Common', u'Spc_Latin',\n",
    "               'Council District', u'Location', u'BIN', u'BBL', u'Zip Codes',\n",
    "               'Community Districts', u'Borough Boundaries',\n",
    "               'City Council Districts', u'Police Precincts'], axis=1, inplace=True)"
   ]
  },
  {
   "cell_type": "code",
   "execution_count": 6,
   "metadata": {},
   "outputs": [
    {
     "data": {
      "text/plain": [
       "Queens           227552\n",
       "Brooklyn         117101\n",
       "Staten Island     76634\n",
       "Bronx             48487\n",
       "Manhattan         47215\n",
       "Name: Borough, dtype: int64"
      ]
     },
     "execution_count": 6,
     "metadata": {},
     "output_type": "execute_result"
    }
   ],
   "source": [
    "trees1995['Borough'].value_counts()"
   ]
  },
  {
   "cell_type": "code",
   "execution_count": 7,
   "metadata": {},
   "outputs": [
    {
     "data": {
      "text/html": [
       "<div>\n",
       "<table border=\"1\" class=\"dataframe\">\n",
       "  <thead>\n",
       "    <tr style=\"text-align: right;\">\n",
       "      <th></th>\n",
       "      <th>Borough</th>\n",
       "      <th>RecordId</th>\n",
       "    </tr>\n",
       "  </thead>\n",
       "  <tbody>\n",
       "    <tr>\n",
       "      <th>0</th>\n",
       "      <td>Bronx</td>\n",
       "      <td>48487</td>\n",
       "    </tr>\n",
       "    <tr>\n",
       "      <th>1</th>\n",
       "      <td>Brooklyn</td>\n",
       "      <td>117101</td>\n",
       "    </tr>\n",
       "    <tr>\n",
       "      <th>2</th>\n",
       "      <td>Manhattan</td>\n",
       "      <td>47215</td>\n",
       "    </tr>\n",
       "    <tr>\n",
       "      <th>3</th>\n",
       "      <td>Queens</td>\n",
       "      <td>227552</td>\n",
       "    </tr>\n",
       "    <tr>\n",
       "      <th>4</th>\n",
       "      <td>Staten Island</td>\n",
       "      <td>76634</td>\n",
       "    </tr>\n",
       "  </tbody>\n",
       "</table>\n",
       "</div>"
      ],
      "text/plain": [
       "         Borough  RecordId\n",
       "0          Bronx     48487\n",
       "1       Brooklyn    117101\n",
       "2      Manhattan     47215\n",
       "3         Queens    227552\n",
       "4  Staten Island     76634"
      ]
     },
     "execution_count": 7,
     "metadata": {},
     "output_type": "execute_result"
    }
   ],
   "source": [
    "boro1995 = trees1995.groupby('Borough').count().reset_index()\n",
    "boro1995.head()"
   ]
  },
  {
   "cell_type": "code",
   "execution_count": 8,
   "metadata": {},
   "outputs": [
    {
     "data": {
      "text/html": [
       "<div>\n",
       "<table border=\"1\" class=\"dataframe\">\n",
       "  <thead>\n",
       "    <tr style=\"text-align: right;\">\n",
       "      <th></th>\n",
       "      <th>Borough</th>\n",
       "      <th>1995 Tree Count</th>\n",
       "    </tr>\n",
       "  </thead>\n",
       "  <tbody>\n",
       "    <tr>\n",
       "      <th>0</th>\n",
       "      <td>Bronx</td>\n",
       "      <td>48487</td>\n",
       "    </tr>\n",
       "    <tr>\n",
       "      <th>1</th>\n",
       "      <td>Brooklyn</td>\n",
       "      <td>117101</td>\n",
       "    </tr>\n",
       "    <tr>\n",
       "      <th>2</th>\n",
       "      <td>Manhattan</td>\n",
       "      <td>47215</td>\n",
       "    </tr>\n",
       "    <tr>\n",
       "      <th>3</th>\n",
       "      <td>Queens</td>\n",
       "      <td>227552</td>\n",
       "    </tr>\n",
       "    <tr>\n",
       "      <th>4</th>\n",
       "      <td>Staten Island</td>\n",
       "      <td>76634</td>\n",
       "    </tr>\n",
       "  </tbody>\n",
       "</table>\n",
       "</div>"
      ],
      "text/plain": [
       "         Borough  1995 Tree Count\n",
       "0          Bronx            48487\n",
       "1       Brooklyn           117101\n",
       "2      Manhattan            47215\n",
       "3         Queens           227552\n",
       "4  Staten Island            76634"
      ]
     },
     "execution_count": 8,
     "metadata": {},
     "output_type": "execute_result"
    }
   ],
   "source": [
    "boro1995.columns = ['Borough', '1995 Tree Count']\n",
    "boro1995"
   ]
  },
  {
   "cell_type": "markdown",
   "metadata": {},
   "source": [
    "### Reading in and munging 2005 tree census"
   ]
  },
  {
   "cell_type": "code",
   "execution_count": 9,
   "metadata": {},
   "outputs": [
    {
     "name": "stderr",
     "output_type": "stream",
     "text": [
      "/opt/rh/anaconda/root/envs/PUI2016_Python2/lib/python2.7/site-packages/IPython/core/interactiveshell.py:2717: DtypeWarning: Columns (37) have mixed types. Specify dtype option on import or set low_memory=False.\n",
      "  interactivity=interactivity, compiler=compiler, result=result)\n"
     ]
    }
   ],
   "source": [
    "trees2005 = pd.read_csv(\"https://data.cityofnewyork.us/api/views/29bw-z7pj/rows.csv\")"
   ]
  },
  {
   "cell_type": "code",
   "execution_count": 10,
   "metadata": {},
   "outputs": [
    {
     "data": {
      "text/html": [
       "<div>\n",
       "<table border=\"1\" class=\"dataframe\">\n",
       "  <thead>\n",
       "    <tr style=\"text-align: right;\">\n",
       "      <th></th>\n",
       "      <th>OBJECTID</th>\n",
       "      <th>cen_year</th>\n",
       "      <th>tree_dbh</th>\n",
       "      <th>address</th>\n",
       "      <th>tree_loc</th>\n",
       "      <th>pit_type</th>\n",
       "      <th>soil_lvl</th>\n",
       "      <th>status</th>\n",
       "      <th>spc_latin</th>\n",
       "      <th>spc_common</th>\n",
       "      <th>...</th>\n",
       "      <th>state</th>\n",
       "      <th>latitude</th>\n",
       "      <th>longitude</th>\n",
       "      <th>x_sp</th>\n",
       "      <th>y_sp</th>\n",
       "      <th>objectid_1</th>\n",
       "      <th>census tract</th>\n",
       "      <th>bin</th>\n",
       "      <th>bbl</th>\n",
       "      <th>Location 1</th>\n",
       "    </tr>\n",
       "  </thead>\n",
       "  <tbody>\n",
       "    <tr>\n",
       "      <th>0</th>\n",
       "      <td>592373</td>\n",
       "      <td>2005</td>\n",
       "      <td>6</td>\n",
       "      <td>1139 57 STREET</td>\n",
       "      <td>Front</td>\n",
       "      <td>Sidewalk Pit</td>\n",
       "      <td>Level</td>\n",
       "      <td>Good</td>\n",
       "      <td>PYRUS CALLERYANA</td>\n",
       "      <td>PEAR, CALLERY</td>\n",
       "      <td>...</td>\n",
       "      <td>New York</td>\n",
       "      <td>40.632653</td>\n",
       "      <td>-74.000245</td>\n",
       "      <td>984182</td>\n",
       "      <td>169769</td>\n",
       "      <td>0</td>\n",
       "      <td>216.0</td>\n",
       "      <td>3140038.0</td>\n",
       "      <td>3.056890e+09</td>\n",
       "      <td>(40.63265321, -74.00024499)</td>\n",
       "    </tr>\n",
       "    <tr>\n",
       "      <th>1</th>\n",
       "      <td>592374</td>\n",
       "      <td>2005</td>\n",
       "      <td>6</td>\n",
       "      <td>2220 BERGEN AVENUE</td>\n",
       "      <td>Across</td>\n",
       "      <td>Sidewalk Pit</td>\n",
       "      <td>Level</td>\n",
       "      <td>Good</td>\n",
       "      <td>PLATANUS ACERIFOLIA</td>\n",
       "      <td>LONDON PLANETREE</td>\n",
       "      <td>...</td>\n",
       "      <td>New York</td>\n",
       "      <td>40.620084</td>\n",
       "      <td>-73.901453</td>\n",
       "      <td>1011608</td>\n",
       "      <td>165205</td>\n",
       "      <td>1</td>\n",
       "      <td>706.0</td>\n",
       "      <td>3238037.0</td>\n",
       "      <td>3.084440e+09</td>\n",
       "      <td>(40.62008375, -73.9014528)</td>\n",
       "    </tr>\n",
       "    <tr>\n",
       "      <th>2</th>\n",
       "      <td>592375</td>\n",
       "      <td>2005</td>\n",
       "      <td>13</td>\n",
       "      <td>2360 BERGEN AVENUE</td>\n",
       "      <td>Front</td>\n",
       "      <td>Continuous Pit</td>\n",
       "      <td>Level</td>\n",
       "      <td>Good</td>\n",
       "      <td>ACER PLATANOIDES          CRIMSON KING</td>\n",
       "      <td>MAPLE, NORWAY-CR KNG</td>\n",
       "      <td>...</td>\n",
       "      <td>New York</td>\n",
       "      <td>40.617996</td>\n",
       "      <td>-73.899111</td>\n",
       "      <td>1012259</td>\n",
       "      <td>164445</td>\n",
       "      <td>2</td>\n",
       "      <td>706.0</td>\n",
       "      <td>3238299.0</td>\n",
       "      <td>3.084530e+09</td>\n",
       "      <td>(40.61799567, -73.89911096)</td>\n",
       "    </tr>\n",
       "    <tr>\n",
       "      <th>3</th>\n",
       "      <td>592376</td>\n",
       "      <td>2005</td>\n",
       "      <td>13</td>\n",
       "      <td>2254 BERGEN AVENUE</td>\n",
       "      <td>Across</td>\n",
       "      <td>Sidewalk Pit</td>\n",
       "      <td>Level</td>\n",
       "      <td>Good</td>\n",
       "      <td>PLATANUS ACERIFOLIA</td>\n",
       "      <td>LONDON PLANETREE</td>\n",
       "      <td>...</td>\n",
       "      <td>New York</td>\n",
       "      <td>40.619694</td>\n",
       "      <td>-73.901003</td>\n",
       "      <td>1011733</td>\n",
       "      <td>165063</td>\n",
       "      <td>3</td>\n",
       "      <td>706.0</td>\n",
       "      <td>3238045.0</td>\n",
       "      <td>3.084440e+09</td>\n",
       "      <td>(40.6196936, -73.90100311)</td>\n",
       "    </tr>\n",
       "    <tr>\n",
       "      <th>4</th>\n",
       "      <td>592377</td>\n",
       "      <td>2005</td>\n",
       "      <td>15</td>\n",
       "      <td>2332 BERGEN AVENUE</td>\n",
       "      <td>Across</td>\n",
       "      <td>Sidewalk Pit</td>\n",
       "      <td>Level</td>\n",
       "      <td>Good</td>\n",
       "      <td>PLATANUS ACERIFOLIA</td>\n",
       "      <td>LONDON PLANETREE</td>\n",
       "      <td>...</td>\n",
       "      <td>New York</td>\n",
       "      <td>40.618323</td>\n",
       "      <td>-73.899467</td>\n",
       "      <td>1012160</td>\n",
       "      <td>164564</td>\n",
       "      <td>4</td>\n",
       "      <td>706.0</td>\n",
       "      <td>3238294.0</td>\n",
       "      <td>3.084530e+09</td>\n",
       "      <td>(40.61832261, -73.89946707)</td>\n",
       "    </tr>\n",
       "  </tbody>\n",
       "</table>\n",
       "<p>5 rows × 54 columns</p>\n",
       "</div>"
      ],
      "text/plain": [
       "   OBJECTID  cen_year  tree_dbh             address tree_loc        pit_type  \\\n",
       "0    592373      2005         6      1139 57 STREET    Front    Sidewalk Pit   \n",
       "1    592374      2005         6  2220 BERGEN AVENUE   Across    Sidewalk Pit   \n",
       "2    592375      2005        13  2360 BERGEN AVENUE    Front  Continuous Pit   \n",
       "3    592376      2005        13  2254 BERGEN AVENUE   Across    Sidewalk Pit   \n",
       "4    592377      2005        15  2332 BERGEN AVENUE   Across    Sidewalk Pit   \n",
       "\n",
       "  soil_lvl status                               spc_latin  \\\n",
       "0    Level   Good                        PYRUS CALLERYANA   \n",
       "1    Level   Good                     PLATANUS ACERIFOLIA   \n",
       "2    Level   Good  ACER PLATANOIDES          CRIMSON KING   \n",
       "3    Level   Good                     PLATANUS ACERIFOLIA   \n",
       "4    Level   Good                     PLATANUS ACERIFOLIA   \n",
       "\n",
       "             spc_common             ...                  state   latitude  \\\n",
       "0         PEAR, CALLERY             ...               New York  40.632653   \n",
       "1      LONDON PLANETREE             ...               New York  40.620084   \n",
       "2  MAPLE, NORWAY-CR KNG             ...               New York  40.617996   \n",
       "3      LONDON PLANETREE             ...               New York  40.619694   \n",
       "4      LONDON PLANETREE             ...               New York  40.618323   \n",
       "\n",
       "   longitude     x_sp    y_sp objectid_1 census tract        bin  \\\n",
       "0 -74.000245   984182  169769          0        216.0  3140038.0   \n",
       "1 -73.901453  1011608  165205          1        706.0  3238037.0   \n",
       "2 -73.899111  1012259  164445          2        706.0  3238299.0   \n",
       "3 -73.901003  1011733  165063          3        706.0  3238045.0   \n",
       "4 -73.899467  1012160  164564          4        706.0  3238294.0   \n",
       "\n",
       "            bbl                   Location 1  \n",
       "0  3.056890e+09  (40.63265321, -74.00024499)  \n",
       "1  3.084440e+09   (40.62008375, -73.9014528)  \n",
       "2  3.084530e+09  (40.61799567, -73.89911096)  \n",
       "3  3.084440e+09   (40.6196936, -73.90100311)  \n",
       "4  3.084530e+09  (40.61832261, -73.89946707)  \n",
       "\n",
       "[5 rows x 54 columns]"
      ]
     },
     "execution_count": 10,
     "metadata": {},
     "output_type": "execute_result"
    }
   ],
   "source": [
    "trees2005.head()"
   ]
  },
  {
   "cell_type": "code",
   "execution_count": 11,
   "metadata": {},
   "outputs": [
    {
     "data": {
      "text/plain": [
       "(592372, 54)"
      ]
     },
     "execution_count": 11,
     "metadata": {},
     "output_type": "execute_result"
    }
   ],
   "source": [
    "trees2005.shape"
   ]
  },
  {
   "cell_type": "code",
   "execution_count": 12,
   "metadata": {},
   "outputs": [
    {
     "data": {
      "text/plain": [
       "Index([u'OBJECTID', u'cen_year', u'tree_dbh', u'address', u'tree_loc',\n",
       "       u'pit_type', u'soil_lvl', u'status', u'spc_latin', u'spc_common',\n",
       "       u'vert_other', u'vert_pgrd', u'vert_tgrd', u'vert_wall', u'horz_blck',\n",
       "       u'horz_grate', u'horz_plant', u'horz_other', u'sidw_crack',\n",
       "       u'sidw_raise', u'wire_htap', u'wire_prime', u'wire_2nd', u'wire_other',\n",
       "       u'inf_canopy', u'inf_guard', u'inf_wires', u'inf_paving', u'inf_outlet',\n",
       "       u'inf_shoes', u'inf_lights', u'inf_other', u'trunk_dmg', u'zipcode',\n",
       "       u'zip_city', u'cb_num', u'borocode', u'boroname', u'cncldist',\n",
       "       u'st_assem', u'st_senate', u'nta', u'nta_name', u'boro_ct', u'state',\n",
       "       u'latitude', u'longitude', u'x_sp', u'y_sp', u'objectid_1',\n",
       "       u'census tract', u'bin', u'bbl', u'Location 1'],\n",
       "      dtype='object')"
      ]
     },
     "execution_count": 12,
     "metadata": {},
     "output_type": "execute_result"
    }
   ],
   "source": [
    "trees2005.columns"
   ]
  },
  {
   "cell_type": "code",
   "execution_count": 13,
   "metadata": {},
   "outputs": [],
   "source": [
    "trees2005.drop(['cen_year', u'tree_dbh', u'address', u'tree_loc',\n",
    "               'pit_type', u'soil_lvl', u'status', 'spc_latin',\n",
    "               'vert_other', u'vert_pgrd', u'vert_tgrd', u'vert_wall', u'horz_blck',\n",
    "               'horz_grate', u'horz_plant', u'horz_other', u'sidw_crack',\n",
    "               'sidw_raise', u'wire_htap', u'wire_prime', u'wire_2nd', u'wire_other',\n",
    "               'inf_canopy', u'inf_guard', u'inf_wires', u'inf_paving', u'inf_outlet',\n",
    "               'inf_shoes', u'inf_lights', u'inf_other', u'trunk_dmg', u'zipcode',\n",
    "               'zip_city', u'cb_num', u'borocode', 'spc_common', 'cncldist',\n",
    "               'st_assem', u'st_senate', u'nta', u'nta_name', u'boro_ct', u'state',\n",
    "               'latitude', u'longitude', u'x_sp', u'y_sp', u'objectid_1',\n",
    "               'census tract', u'bin', u'bbl', u'Location 1'], axis=1, inplace=True)"
   ]
  },
  {
   "cell_type": "code",
   "execution_count": 14,
   "metadata": {},
   "outputs": [
    {
     "data": {
      "text/html": [
       "<div>\n",
       "<table border=\"1\" class=\"dataframe\">\n",
       "  <thead>\n",
       "    <tr style=\"text-align: right;\">\n",
       "      <th></th>\n",
       "      <th>OBJECTID</th>\n",
       "      <th>boroname</th>\n",
       "    </tr>\n",
       "  </thead>\n",
       "  <tbody>\n",
       "    <tr>\n",
       "      <th>0</th>\n",
       "      <td>592373</td>\n",
       "      <td>Brooklyn</td>\n",
       "    </tr>\n",
       "    <tr>\n",
       "      <th>1</th>\n",
       "      <td>592374</td>\n",
       "      <td>Brooklyn</td>\n",
       "    </tr>\n",
       "    <tr>\n",
       "      <th>2</th>\n",
       "      <td>592375</td>\n",
       "      <td>Brooklyn</td>\n",
       "    </tr>\n",
       "    <tr>\n",
       "      <th>3</th>\n",
       "      <td>592376</td>\n",
       "      <td>Brooklyn</td>\n",
       "    </tr>\n",
       "    <tr>\n",
       "      <th>4</th>\n",
       "      <td>592377</td>\n",
       "      <td>Brooklyn</td>\n",
       "    </tr>\n",
       "    <tr>\n",
       "      <th>5</th>\n",
       "      <td>592378</td>\n",
       "      <td>Brooklyn</td>\n",
       "    </tr>\n",
       "    <tr>\n",
       "      <th>6</th>\n",
       "      <td>592379</td>\n",
       "      <td>Brooklyn</td>\n",
       "    </tr>\n",
       "    <tr>\n",
       "      <th>7</th>\n",
       "      <td>592380</td>\n",
       "      <td>Brooklyn</td>\n",
       "    </tr>\n",
       "    <tr>\n",
       "      <th>8</th>\n",
       "      <td>592381</td>\n",
       "      <td>Brooklyn</td>\n",
       "    </tr>\n",
       "    <tr>\n",
       "      <th>9</th>\n",
       "      <td>592382</td>\n",
       "      <td>Brooklyn</td>\n",
       "    </tr>\n",
       "  </tbody>\n",
       "</table>\n",
       "</div>"
      ],
      "text/plain": [
       "   OBJECTID  boroname\n",
       "0    592373  Brooklyn\n",
       "1    592374  Brooklyn\n",
       "2    592375  Brooklyn\n",
       "3    592376  Brooklyn\n",
       "4    592377  Brooklyn\n",
       "5    592378  Brooklyn\n",
       "6    592379  Brooklyn\n",
       "7    592380  Brooklyn\n",
       "8    592381  Brooklyn\n",
       "9    592382  Brooklyn"
      ]
     },
     "execution_count": 14,
     "metadata": {},
     "output_type": "execute_result"
    }
   ],
   "source": [
    "trees2005.head(10)"
   ]
  },
  {
   "cell_type": "code",
   "execution_count": 15,
   "metadata": {},
   "outputs": [
    {
     "data": {
      "text/plain": [
       "Queens       240008\n",
       "Brooklyn     142852\n",
       "5             84468\n",
       "Bronx         59925\n",
       "Manhattan     49886\n",
       "5             15233\n",
       "Name: boroname, dtype: int64"
      ]
     },
     "execution_count": 15,
     "metadata": {},
     "output_type": "execute_result"
    }
   ],
   "source": [
    "trees2005['boroname'].value_counts()"
   ]
  },
  {
   "cell_type": "code",
   "execution_count": 16,
   "metadata": {},
   "outputs": [
    {
     "data": {
      "text/plain": [
       "Queens           240008\n",
       "Brooklyn         142852\n",
       "Staten Island     99701\n",
       "Bronx             59925\n",
       "Manhattan         49886\n",
       "Name: boroname, dtype: int64"
      ]
     },
     "execution_count": 16,
     "metadata": {},
     "output_type": "execute_result"
    }
   ],
   "source": [
    "#Changing 5 to Staten Island\n",
    "\n",
    "trees2005.loc[trees2005['boroname'] == 5, 'boroname'] = 'Staten Island'\n",
    "trees2005.loc[trees2005['boroname'] == '5', 'boroname'] = 'Staten Island'\n",
    "trees2005['boroname'].value_counts()"
   ]
  },
  {
   "cell_type": "code",
   "execution_count": 17,
   "metadata": {},
   "outputs": [
    {
     "data": {
      "text/html": [
       "<div>\n",
       "<table border=\"1\" class=\"dataframe\">\n",
       "  <thead>\n",
       "    <tr style=\"text-align: right;\">\n",
       "      <th></th>\n",
       "      <th>boroname</th>\n",
       "      <th>OBJECTID</th>\n",
       "    </tr>\n",
       "  </thead>\n",
       "  <tbody>\n",
       "    <tr>\n",
       "      <th>0</th>\n",
       "      <td>Bronx</td>\n",
       "      <td>59925</td>\n",
       "    </tr>\n",
       "    <tr>\n",
       "      <th>1</th>\n",
       "      <td>Brooklyn</td>\n",
       "      <td>142852</td>\n",
       "    </tr>\n",
       "    <tr>\n",
       "      <th>2</th>\n",
       "      <td>Manhattan</td>\n",
       "      <td>49886</td>\n",
       "    </tr>\n",
       "    <tr>\n",
       "      <th>3</th>\n",
       "      <td>Queens</td>\n",
       "      <td>240008</td>\n",
       "    </tr>\n",
       "    <tr>\n",
       "      <th>4</th>\n",
       "      <td>Staten Island</td>\n",
       "      <td>99701</td>\n",
       "    </tr>\n",
       "  </tbody>\n",
       "</table>\n",
       "</div>"
      ],
      "text/plain": [
       "        boroname  OBJECTID\n",
       "0          Bronx     59925\n",
       "1       Brooklyn    142852\n",
       "2      Manhattan     49886\n",
       "3         Queens    240008\n",
       "4  Staten Island     99701"
      ]
     },
     "execution_count": 17,
     "metadata": {},
     "output_type": "execute_result"
    }
   ],
   "source": [
    "boro2005 = trees2005.groupby('boroname').count().reset_index()\n",
    "boro2005.head()"
   ]
  },
  {
   "cell_type": "code",
   "execution_count": 18,
   "metadata": {},
   "outputs": [
    {
     "data": {
      "text/html": [
       "<div>\n",
       "<table border=\"1\" class=\"dataframe\">\n",
       "  <thead>\n",
       "    <tr style=\"text-align: right;\">\n",
       "      <th></th>\n",
       "      <th>Borough</th>\n",
       "      <th>2005 Tree Count</th>\n",
       "    </tr>\n",
       "  </thead>\n",
       "  <tbody>\n",
       "    <tr>\n",
       "      <th>0</th>\n",
       "      <td>Bronx</td>\n",
       "      <td>59925</td>\n",
       "    </tr>\n",
       "    <tr>\n",
       "      <th>1</th>\n",
       "      <td>Brooklyn</td>\n",
       "      <td>142852</td>\n",
       "    </tr>\n",
       "    <tr>\n",
       "      <th>2</th>\n",
       "      <td>Manhattan</td>\n",
       "      <td>49886</td>\n",
       "    </tr>\n",
       "    <tr>\n",
       "      <th>3</th>\n",
       "      <td>Queens</td>\n",
       "      <td>240008</td>\n",
       "    </tr>\n",
       "    <tr>\n",
       "      <th>4</th>\n",
       "      <td>Staten Island</td>\n",
       "      <td>99701</td>\n",
       "    </tr>\n",
       "  </tbody>\n",
       "</table>\n",
       "</div>"
      ],
      "text/plain": [
       "         Borough  2005 Tree Count\n",
       "0          Bronx            59925\n",
       "1       Brooklyn           142852\n",
       "2      Manhattan            49886\n",
       "3         Queens           240008\n",
       "4  Staten Island            99701"
      ]
     },
     "execution_count": 18,
     "metadata": {},
     "output_type": "execute_result"
    }
   ],
   "source": [
    "boro2005.columns = ['Borough', '2005 Tree Count']\n",
    "boro2005"
   ]
  },
  {
   "cell_type": "markdown",
   "metadata": {},
   "source": [
    "### Reading in and munging 2015 tree census"
   ]
  },
  {
   "cell_type": "code",
   "execution_count": 19,
   "metadata": {},
   "outputs": [],
   "source": [
    "trees2015 = pd.read_csv(\"https://data.cityofnewyork.us/api/views/uvpi-gqnh/rows.csv\")"
   ]
  },
  {
   "cell_type": "code",
   "execution_count": 20,
   "metadata": {},
   "outputs": [
    {
     "data": {
      "text/html": [
       "<div>\n",
       "<table border=\"1\" class=\"dataframe\">\n",
       "  <thead>\n",
       "    <tr style=\"text-align: right;\">\n",
       "      <th></th>\n",
       "      <th>tree_id</th>\n",
       "      <th>block_id</th>\n",
       "      <th>created_at</th>\n",
       "      <th>tree_dbh</th>\n",
       "      <th>stump_diam</th>\n",
       "      <th>curb_loc</th>\n",
       "      <th>status</th>\n",
       "      <th>health</th>\n",
       "      <th>spc_latin</th>\n",
       "      <th>spc_common</th>\n",
       "      <th>...</th>\n",
       "      <th>boro_ct</th>\n",
       "      <th>state</th>\n",
       "      <th>latitude</th>\n",
       "      <th>longitude</th>\n",
       "      <th>x_sp</th>\n",
       "      <th>y_sp</th>\n",
       "      <th>council district</th>\n",
       "      <th>census tract</th>\n",
       "      <th>bin</th>\n",
       "      <th>bbl</th>\n",
       "    </tr>\n",
       "  </thead>\n",
       "  <tbody>\n",
       "    <tr>\n",
       "      <th>0</th>\n",
       "      <td>180683</td>\n",
       "      <td>348711</td>\n",
       "      <td>08/27/2015</td>\n",
       "      <td>3</td>\n",
       "      <td>0</td>\n",
       "      <td>OnCurb</td>\n",
       "      <td>Alive</td>\n",
       "      <td>Fair</td>\n",
       "      <td>Acer rubrum</td>\n",
       "      <td>red maple</td>\n",
       "      <td>...</td>\n",
       "      <td>4073900</td>\n",
       "      <td>New York</td>\n",
       "      <td>40.723092</td>\n",
       "      <td>-73.844215</td>\n",
       "      <td>1027431.148</td>\n",
       "      <td>202756.7687</td>\n",
       "      <td>29.0</td>\n",
       "      <td>739.0</td>\n",
       "      <td>4052307.0</td>\n",
       "      <td>4.022210e+09</td>\n",
       "    </tr>\n",
       "    <tr>\n",
       "      <th>1</th>\n",
       "      <td>200540</td>\n",
       "      <td>315986</td>\n",
       "      <td>09/03/2015</td>\n",
       "      <td>21</td>\n",
       "      <td>0</td>\n",
       "      <td>OnCurb</td>\n",
       "      <td>Alive</td>\n",
       "      <td>Fair</td>\n",
       "      <td>Quercus palustris</td>\n",
       "      <td>pin oak</td>\n",
       "      <td>...</td>\n",
       "      <td>4097300</td>\n",
       "      <td>New York</td>\n",
       "      <td>40.794111</td>\n",
       "      <td>-73.818679</td>\n",
       "      <td>1034455.701</td>\n",
       "      <td>228644.8374</td>\n",
       "      <td>19.0</td>\n",
       "      <td>973.0</td>\n",
       "      <td>4101931.0</td>\n",
       "      <td>4.044750e+09</td>\n",
       "    </tr>\n",
       "    <tr>\n",
       "      <th>2</th>\n",
       "      <td>204026</td>\n",
       "      <td>218365</td>\n",
       "      <td>09/05/2015</td>\n",
       "      <td>3</td>\n",
       "      <td>0</td>\n",
       "      <td>OnCurb</td>\n",
       "      <td>Alive</td>\n",
       "      <td>Good</td>\n",
       "      <td>Gleditsia triacanthos var. inermis</td>\n",
       "      <td>honeylocust</td>\n",
       "      <td>...</td>\n",
       "      <td>3044900</td>\n",
       "      <td>New York</td>\n",
       "      <td>40.717581</td>\n",
       "      <td>-73.936608</td>\n",
       "      <td>1001822.831</td>\n",
       "      <td>200716.8913</td>\n",
       "      <td>34.0</td>\n",
       "      <td>449.0</td>\n",
       "      <td>3338310.0</td>\n",
       "      <td>3.028870e+09</td>\n",
       "    </tr>\n",
       "    <tr>\n",
       "      <th>3</th>\n",
       "      <td>204337</td>\n",
       "      <td>217969</td>\n",
       "      <td>09/05/2015</td>\n",
       "      <td>10</td>\n",
       "      <td>0</td>\n",
       "      <td>OnCurb</td>\n",
       "      <td>Alive</td>\n",
       "      <td>Good</td>\n",
       "      <td>Gleditsia triacanthos var. inermis</td>\n",
       "      <td>honeylocust</td>\n",
       "      <td>...</td>\n",
       "      <td>3044900</td>\n",
       "      <td>New York</td>\n",
       "      <td>40.713537</td>\n",
       "      <td>-73.934456</td>\n",
       "      <td>1002420.358</td>\n",
       "      <td>199244.2531</td>\n",
       "      <td>34.0</td>\n",
       "      <td>449.0</td>\n",
       "      <td>3338342.0</td>\n",
       "      <td>3.029250e+09</td>\n",
       "    </tr>\n",
       "    <tr>\n",
       "      <th>4</th>\n",
       "      <td>189565</td>\n",
       "      <td>223043</td>\n",
       "      <td>08/30/2015</td>\n",
       "      <td>21</td>\n",
       "      <td>0</td>\n",
       "      <td>OnCurb</td>\n",
       "      <td>Alive</td>\n",
       "      <td>Good</td>\n",
       "      <td>Tilia americana</td>\n",
       "      <td>American linden</td>\n",
       "      <td>...</td>\n",
       "      <td>3016500</td>\n",
       "      <td>New York</td>\n",
       "      <td>40.666778</td>\n",
       "      <td>-73.975979</td>\n",
       "      <td>990913.775</td>\n",
       "      <td>182202.4260</td>\n",
       "      <td>39.0</td>\n",
       "      <td>165.0</td>\n",
       "      <td>3025654.0</td>\n",
       "      <td>3.010850e+09</td>\n",
       "    </tr>\n",
       "  </tbody>\n",
       "</table>\n",
       "<p>5 rows × 45 columns</p>\n",
       "</div>"
      ],
      "text/plain": [
       "   tree_id  block_id  created_at  tree_dbh  stump_diam curb_loc status health  \\\n",
       "0   180683    348711  08/27/2015         3           0   OnCurb  Alive   Fair   \n",
       "1   200540    315986  09/03/2015        21           0   OnCurb  Alive   Fair   \n",
       "2   204026    218365  09/05/2015         3           0   OnCurb  Alive   Good   \n",
       "3   204337    217969  09/05/2015        10           0   OnCurb  Alive   Good   \n",
       "4   189565    223043  08/30/2015        21           0   OnCurb  Alive   Good   \n",
       "\n",
       "                            spc_latin       spc_common      ...       boro_ct  \\\n",
       "0                         Acer rubrum        red maple      ...       4073900   \n",
       "1                   Quercus palustris          pin oak      ...       4097300   \n",
       "2  Gleditsia triacanthos var. inermis      honeylocust      ...       3044900   \n",
       "3  Gleditsia triacanthos var. inermis      honeylocust      ...       3044900   \n",
       "4                     Tilia americana  American linden      ...       3016500   \n",
       "\n",
       "      state   latitude  longitude         x_sp         y_sp council district  \\\n",
       "0  New York  40.723092 -73.844215  1027431.148  202756.7687             29.0   \n",
       "1  New York  40.794111 -73.818679  1034455.701  228644.8374             19.0   \n",
       "2  New York  40.717581 -73.936608  1001822.831  200716.8913             34.0   \n",
       "3  New York  40.713537 -73.934456  1002420.358  199244.2531             34.0   \n",
       "4  New York  40.666778 -73.975979   990913.775  182202.4260             39.0   \n",
       "\n",
       "  census tract        bin           bbl  \n",
       "0        739.0  4052307.0  4.022210e+09  \n",
       "1        973.0  4101931.0  4.044750e+09  \n",
       "2        449.0  3338310.0  3.028870e+09  \n",
       "3        449.0  3338342.0  3.029250e+09  \n",
       "4        165.0  3025654.0  3.010850e+09  \n",
       "\n",
       "[5 rows x 45 columns]"
      ]
     },
     "execution_count": 20,
     "metadata": {},
     "output_type": "execute_result"
    }
   ],
   "source": [
    "trees2015.head()"
   ]
  },
  {
   "cell_type": "code",
   "execution_count": 21,
   "metadata": {},
   "outputs": [
    {
     "data": {
      "text/plain": [
       "Index([u'tree_id', u'block_id', u'created_at', u'tree_dbh', u'stump_diam',\n",
       "       u'curb_loc', u'status', u'health', u'spc_latin', u'spc_common',\n",
       "       u'steward', u'guards', u'sidewalk', u'user_type', u'problems',\n",
       "       u'root_stone', u'root_grate', u'root_other', u'trunk_wire',\n",
       "       u'trnk_light', u'trnk_other', u'brch_light', u'brch_shoe',\n",
       "       u'brch_other', u'address', u'postcode', u'zip_city', u'community board',\n",
       "       u'borocode', u'borough', u'cncldist', u'st_assem', u'st_senate', u'nta',\n",
       "       u'nta_name', u'boro_ct', u'state', u'latitude', u'longitude', u'x_sp',\n",
       "       u'y_sp', u'council district', u'census tract', u'bin', u'bbl'],\n",
       "      dtype='object')"
      ]
     },
     "execution_count": 21,
     "metadata": {},
     "output_type": "execute_result"
    }
   ],
   "source": [
    "trees2015.columns"
   ]
  },
  {
   "cell_type": "code",
   "execution_count": 22,
   "metadata": {},
   "outputs": [],
   "source": [
    "trees2015.drop(['block_id', 'created_at', 'tree_dbh', 'stump_diam','curb_loc', \n",
    "               'status', 'health', 'steward', 'guards', 'sidewalk', 'spc_latin',\n",
    "               'user_type', 'problems','root_stone', 'root_grate', 'root_other', \n",
    "               'trunk_wire','trnk_light', 'trnk_other', 'brch_light', 'brch_shoe',\n",
    "               'brch_other', 'address', 'postcode', 'zip_city', 'community board',\n",
    "               'borocode','st_assem', 'st_senate', 'nta', 'spc_common', 'cncldist',\n",
    "               'nta_name', 'boro_ct', 'state', 'latitude', 'longitude', 'x_sp', \n",
    "               'y_sp', 'council district', 'census tract', 'bin', 'bbl'], axis=1, inplace=True)"
   ]
  },
  {
   "cell_type": "code",
   "execution_count": 23,
   "metadata": {},
   "outputs": [
    {
     "data": {
      "text/html": [
       "<div>\n",
       "<table border=\"1\" class=\"dataframe\">\n",
       "  <thead>\n",
       "    <tr style=\"text-align: right;\">\n",
       "      <th></th>\n",
       "      <th>tree_id</th>\n",
       "      <th>borough</th>\n",
       "    </tr>\n",
       "  </thead>\n",
       "  <tbody>\n",
       "    <tr>\n",
       "      <th>0</th>\n",
       "      <td>180683</td>\n",
       "      <td>Queens</td>\n",
       "    </tr>\n",
       "    <tr>\n",
       "      <th>1</th>\n",
       "      <td>200540</td>\n",
       "      <td>Queens</td>\n",
       "    </tr>\n",
       "    <tr>\n",
       "      <th>2</th>\n",
       "      <td>204026</td>\n",
       "      <td>Brooklyn</td>\n",
       "    </tr>\n",
       "    <tr>\n",
       "      <th>3</th>\n",
       "      <td>204337</td>\n",
       "      <td>Brooklyn</td>\n",
       "    </tr>\n",
       "    <tr>\n",
       "      <th>4</th>\n",
       "      <td>189565</td>\n",
       "      <td>Brooklyn</td>\n",
       "    </tr>\n",
       "    <tr>\n",
       "      <th>5</th>\n",
       "      <td>190422</td>\n",
       "      <td>Manhattan</td>\n",
       "    </tr>\n",
       "    <tr>\n",
       "      <th>6</th>\n",
       "      <td>190426</td>\n",
       "      <td>Manhattan</td>\n",
       "    </tr>\n",
       "    <tr>\n",
       "      <th>7</th>\n",
       "      <td>208649</td>\n",
       "      <td>Manhattan</td>\n",
       "    </tr>\n",
       "    <tr>\n",
       "      <th>8</th>\n",
       "      <td>209610</td>\n",
       "      <td>Staten Island</td>\n",
       "    </tr>\n",
       "    <tr>\n",
       "      <th>9</th>\n",
       "      <td>192755</td>\n",
       "      <td>Brooklyn</td>\n",
       "    </tr>\n",
       "  </tbody>\n",
       "</table>\n",
       "</div>"
      ],
      "text/plain": [
       "   tree_id        borough\n",
       "0   180683         Queens\n",
       "1   200540         Queens\n",
       "2   204026       Brooklyn\n",
       "3   204337       Brooklyn\n",
       "4   189565       Brooklyn\n",
       "5   190422      Manhattan\n",
       "6   190426      Manhattan\n",
       "7   208649      Manhattan\n",
       "8   209610  Staten Island\n",
       "9   192755       Brooklyn"
      ]
     },
     "execution_count": 23,
     "metadata": {},
     "output_type": "execute_result"
    }
   ],
   "source": [
    "trees2015.head(10)"
   ]
  },
  {
   "cell_type": "code",
   "execution_count": 24,
   "metadata": {},
   "outputs": [
    {
     "data": {
      "text/plain": [
       "Queens           250551\n",
       "Brooklyn         177293\n",
       "Staten Island    105318\n",
       "Bronx             85203\n",
       "Manhattan         65423\n",
       "Name: borough, dtype: int64"
      ]
     },
     "execution_count": 24,
     "metadata": {},
     "output_type": "execute_result"
    }
   ],
   "source": [
    "trees2015['borough'].value_counts()"
   ]
  },
  {
   "cell_type": "code",
   "execution_count": 25,
   "metadata": {},
   "outputs": [
    {
     "data": {
      "text/html": [
       "<div>\n",
       "<table border=\"1\" class=\"dataframe\">\n",
       "  <thead>\n",
       "    <tr style=\"text-align: right;\">\n",
       "      <th></th>\n",
       "      <th>borough</th>\n",
       "      <th>tree_id</th>\n",
       "    </tr>\n",
       "  </thead>\n",
       "  <tbody>\n",
       "    <tr>\n",
       "      <th>0</th>\n",
       "      <td>Bronx</td>\n",
       "      <td>85203</td>\n",
       "    </tr>\n",
       "    <tr>\n",
       "      <th>1</th>\n",
       "      <td>Brooklyn</td>\n",
       "      <td>177293</td>\n",
       "    </tr>\n",
       "    <tr>\n",
       "      <th>2</th>\n",
       "      <td>Manhattan</td>\n",
       "      <td>65423</td>\n",
       "    </tr>\n",
       "    <tr>\n",
       "      <th>3</th>\n",
       "      <td>Queens</td>\n",
       "      <td>250551</td>\n",
       "    </tr>\n",
       "    <tr>\n",
       "      <th>4</th>\n",
       "      <td>Staten Island</td>\n",
       "      <td>105318</td>\n",
       "    </tr>\n",
       "  </tbody>\n",
       "</table>\n",
       "</div>"
      ],
      "text/plain": [
       "         borough  tree_id\n",
       "0          Bronx    85203\n",
       "1       Brooklyn   177293\n",
       "2      Manhattan    65423\n",
       "3         Queens   250551\n",
       "4  Staten Island   105318"
      ]
     },
     "execution_count": 25,
     "metadata": {},
     "output_type": "execute_result"
    }
   ],
   "source": [
    "boro2015 = trees2015.groupby('borough').count().reset_index()\n",
    "boro2015.head()"
   ]
  },
  {
   "cell_type": "code",
   "execution_count": 26,
   "metadata": {},
   "outputs": [
    {
     "data": {
      "text/html": [
       "<div>\n",
       "<table border=\"1\" class=\"dataframe\">\n",
       "  <thead>\n",
       "    <tr style=\"text-align: right;\">\n",
       "      <th></th>\n",
       "      <th>Borough</th>\n",
       "      <th>2015 Tree Count</th>\n",
       "    </tr>\n",
       "  </thead>\n",
       "  <tbody>\n",
       "    <tr>\n",
       "      <th>0</th>\n",
       "      <td>Bronx</td>\n",
       "      <td>85203</td>\n",
       "    </tr>\n",
       "    <tr>\n",
       "      <th>1</th>\n",
       "      <td>Brooklyn</td>\n",
       "      <td>177293</td>\n",
       "    </tr>\n",
       "    <tr>\n",
       "      <th>2</th>\n",
       "      <td>Manhattan</td>\n",
       "      <td>65423</td>\n",
       "    </tr>\n",
       "    <tr>\n",
       "      <th>3</th>\n",
       "      <td>Queens</td>\n",
       "      <td>250551</td>\n",
       "    </tr>\n",
       "    <tr>\n",
       "      <th>4</th>\n",
       "      <td>Staten Island</td>\n",
       "      <td>105318</td>\n",
       "    </tr>\n",
       "  </tbody>\n",
       "</table>\n",
       "</div>"
      ],
      "text/plain": [
       "         Borough  2015 Tree Count\n",
       "0          Bronx            85203\n",
       "1       Brooklyn           177293\n",
       "2      Manhattan            65423\n",
       "3         Queens           250551\n",
       "4  Staten Island           105318"
      ]
     },
     "execution_count": 26,
     "metadata": {},
     "output_type": "execute_result"
    }
   ],
   "source": [
    "boro2015.columns = ['Borough', '2015 Tree Count']\n",
    "boro2015"
   ]
  },
  {
   "cell_type": "markdown",
   "metadata": {},
   "source": [
    "### Merging data"
   ]
  },
  {
   "cell_type": "code",
   "execution_count": 27,
   "metadata": {},
   "outputs": [
    {
     "data": {
      "text/html": [
       "<div>\n",
       "<table border=\"1\" class=\"dataframe\">\n",
       "  <thead>\n",
       "    <tr style=\"text-align: right;\">\n",
       "      <th></th>\n",
       "      <th>Borough</th>\n",
       "      <th>1995 Tree Count</th>\n",
       "      <th>2005 Tree Count</th>\n",
       "    </tr>\n",
       "  </thead>\n",
       "  <tbody>\n",
       "    <tr>\n",
       "      <th>0</th>\n",
       "      <td>Bronx</td>\n",
       "      <td>48487</td>\n",
       "      <td>59925</td>\n",
       "    </tr>\n",
       "    <tr>\n",
       "      <th>1</th>\n",
       "      <td>Brooklyn</td>\n",
       "      <td>117101</td>\n",
       "      <td>142852</td>\n",
       "    </tr>\n",
       "    <tr>\n",
       "      <th>2</th>\n",
       "      <td>Manhattan</td>\n",
       "      <td>47215</td>\n",
       "      <td>49886</td>\n",
       "    </tr>\n",
       "    <tr>\n",
       "      <th>3</th>\n",
       "      <td>Queens</td>\n",
       "      <td>227552</td>\n",
       "      <td>240008</td>\n",
       "    </tr>\n",
       "    <tr>\n",
       "      <th>4</th>\n",
       "      <td>Staten Island</td>\n",
       "      <td>76634</td>\n",
       "      <td>99701</td>\n",
       "    </tr>\n",
       "  </tbody>\n",
       "</table>\n",
       "</div>"
      ],
      "text/plain": [
       "         Borough  1995 Tree Count  2005 Tree Count\n",
       "0          Bronx            48487            59925\n",
       "1       Brooklyn           117101           142852\n",
       "2      Manhattan            47215            49886\n",
       "3         Queens           227552           240008\n",
       "4  Staten Island            76634            99701"
      ]
     },
     "execution_count": 27,
     "metadata": {},
     "output_type": "execute_result"
    }
   ],
   "source": [
    "combined = boro1995.merge(boro2005, how='left')\n",
    "combined"
   ]
  },
  {
   "cell_type": "code",
   "execution_count": 28,
   "metadata": {},
   "outputs": [
    {
     "data": {
      "text/html": [
       "<div>\n",
       "<table border=\"1\" class=\"dataframe\">\n",
       "  <thead>\n",
       "    <tr style=\"text-align: right;\">\n",
       "      <th></th>\n",
       "      <th>Borough</th>\n",
       "      <th>1995 Tree Count</th>\n",
       "      <th>2005 Tree Count</th>\n",
       "      <th>2015 Tree Count</th>\n",
       "    </tr>\n",
       "  </thead>\n",
       "  <tbody>\n",
       "    <tr>\n",
       "      <th>0</th>\n",
       "      <td>Bronx</td>\n",
       "      <td>48487</td>\n",
       "      <td>59925</td>\n",
       "      <td>85203</td>\n",
       "    </tr>\n",
       "    <tr>\n",
       "      <th>1</th>\n",
       "      <td>Brooklyn</td>\n",
       "      <td>117101</td>\n",
       "      <td>142852</td>\n",
       "      <td>177293</td>\n",
       "    </tr>\n",
       "    <tr>\n",
       "      <th>2</th>\n",
       "      <td>Manhattan</td>\n",
       "      <td>47215</td>\n",
       "      <td>49886</td>\n",
       "      <td>65423</td>\n",
       "    </tr>\n",
       "    <tr>\n",
       "      <th>3</th>\n",
       "      <td>Queens</td>\n",
       "      <td>227552</td>\n",
       "      <td>240008</td>\n",
       "      <td>250551</td>\n",
       "    </tr>\n",
       "    <tr>\n",
       "      <th>4</th>\n",
       "      <td>Staten Island</td>\n",
       "      <td>76634</td>\n",
       "      <td>99701</td>\n",
       "      <td>105318</td>\n",
       "    </tr>\n",
       "  </tbody>\n",
       "</table>\n",
       "</div>"
      ],
      "text/plain": [
       "         Borough  1995 Tree Count  2005 Tree Count  2015 Tree Count\n",
       "0          Bronx            48487            59925            85203\n",
       "1       Brooklyn           117101           142852           177293\n",
       "2      Manhattan            47215            49886            65423\n",
       "3         Queens           227552           240008           250551\n",
       "4  Staten Island            76634            99701           105318"
      ]
     },
     "execution_count": 28,
     "metadata": {},
     "output_type": "execute_result"
    }
   ],
   "source": [
    "combined = combined.merge(boro2015, how='left')\n",
    "combined"
   ]
  },
  {
   "cell_type": "markdown",
   "metadata": {},
   "source": [
    "### Making visualization"
   ]
  },
  {
   "cell_type": "code",
   "execution_count": 31,
   "metadata": {},
   "outputs": [
    {
     "data": {
      "image/png": "[encoded data removed]",
      "text/plain": [
       "<matplotlib.figure.Figure at 0x7fd78ccb6310>"
      ]
     },
     "metadata": {},
     "output_type": "display_data"
    }
   ],
   "source": [
    "combined.plot(kind='bar', figsize=(15,7), color = ('lightblue', 'deepskyblue', 'darkblue'))\n",
    "plt.ylabel(\"Number of Trees\", fontsize='14')\n",
    "plt.xlabel(\"Borough\", fontsize='14')\n",
    "plt.title('Number of Trees by Borough: 1995, 2005, and 2015', fontsize='14')\n",
    "plt.xticks(arange(5), ('Bronx', 'Brooklyn', 'Manhattan', 'Queens', 'Staten Island'), fontsize='12', rotation=45)\n",
    "plt.yticks(fontsize='12')\n",
    "plt.grid(linewidth=0.25)"
   ]
  },
  {
   "cell_type": "markdown",
   "metadata": {},
   "source": [
    "### Fig 1. This plot shows the increase in the number of trees by borough at the 1995, 2005, and 2015 tree censuses. It demonstrates that all boroughs have continuously seen an increase in the number of trees since 1995. "
   ]
  },
  {
   "cell_type": "code",
   "execution_count": null,
   "metadata": {},
   "outputs": [],
   "source": []
  }
 ],
 "metadata": {
  "kernelspec": {
   "display_name": "PUI2016_Python2",
   "language": "python",
   "name": "pui2016_python2"
  },
  "language_info": {
   "codemirror_mode": {
    "name": "ipython",
    "version": 2
   },
   "file_extension": ".py",
   "mimetype": "text/x-python",
   "name": "python",
   "nbconvert_exporter": "python",
   "pygments_lexer": "ipython2",
   "version": "2.7.12"
  }
 },
 "nbformat": 4,
 "nbformat_minor": 2
}
